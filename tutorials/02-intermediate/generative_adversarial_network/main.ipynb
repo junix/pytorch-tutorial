{
 "cells": [
  {
   "cell_type": "code",
   "execution_count": 1,
   "metadata": {
    "collapsed": true
   },
   "outputs": [],
   "source": [
    "import torch\n",
    "import torchvision\n",
    "import torch.nn as nn\n",
    "import torch.nn.functional as F\n",
    "from torchvision import datasets \n",
    "from torchvision import transforms\n",
    "from torchvision.utils import save_image\n",
    "from torch.autograd import Variable"
   ]
  },
  {
   "cell_type": "code",
   "execution_count": 2,
   "metadata": {
    "collapsed": true
   },
   "outputs": [],
   "source": [
    "def to_var(x):\n",
    "    if torch.cuda.is_available():\n",
    "        x = x.cuda()\n",
    "    return Variable(x)"
   ]
  },
  {
   "cell_type": "code",
   "execution_count": 3,
   "metadata": {
    "collapsed": true
   },
   "outputs": [],
   "source": [
    "def denorm(x):\n",
    "    out = (x + 1) / 2\n",
    "    return out.clamp(0, 1)"
   ]
  },
  {
   "cell_type": "code",
   "execution_count": 4,
   "metadata": {
    "collapsed": true
   },
   "outputs": [],
   "source": [
    "# Image processing\n",
    "transform = transforms.Compose([\n",
    "    transforms.ToTensor(),\n",
    "    transforms.Normalize(mean=(0.5, 0.5, 0.5), std=(0.5, 0.5, 0.5))\n",
    "])"
   ]
  },
  {
   "cell_type": "code",
   "execution_count": 5,
   "metadata": {
    "collapsed": true
   },
   "outputs": [],
   "source": [
    "# MNIST dataset\n",
    "mnist = datasets.MNIST(\n",
    "    root='../../data/', train=True, transform=transform, download=True)\n",
    "# Data loader\n",
    "data_loader = torch.utils.data.DataLoader(\n",
    "    dataset=mnist, batch_size=100, shuffle=True)"
   ]
  },
  {
   "cell_type": "code",
   "execution_count": 9,
   "metadata": {
    "collapsed": true
   },
   "outputs": [],
   "source": [
    "# Discriminator\n",
    "D = nn.Sequential(\n",
    "    nn.Linear(784, 256), nn.LeakyReLU(0.2), nn.Linear(256, 256),\n",
    "    nn.LeakyReLU(0.2), nn.Linear(256, 1), nn.Sigmoid())\n",
    "\n",
    "# Generator\n",
    "G = nn.Sequential(\n",
    "    nn.Linear(64, 256), nn.LeakyReLU(0.2), nn.Linear(256, 256),\n",
    "    nn.LeakyReLU(0.2), nn.Linear(256, 784), nn.Tanh())"
   ]
  },
  {
   "cell_type": "code",
   "execution_count": 10,
   "metadata": {
    "collapsed": true
   },
   "outputs": [],
   "source": [
    "if torch.cuda.is_available():\n",
    "    D.cuda()\n",
    "    G.cuda()"
   ]
  },
  {
   "cell_type": "code",
   "execution_count": 11,
   "metadata": {
    "collapsed": true
   },
   "outputs": [],
   "source": [
    "# Binary cross entropy loss and optimizer\n",
    "criterion = nn.BCELoss()\n",
    "d_optimizer = torch.optim.Adam(D.parameters(), lr=0.0003)\n",
    "g_optimizer = torch.optim.Adam(G.parameters(), lr=0.0003)"
   ]
  },
  {
   "cell_type": "code",
   "execution_count": null,
   "metadata": {},
   "outputs": [
    {
     "name": "stderr",
     "output_type": "stream",
     "text": [
      "/home/wanglijun/anaconda3/lib/python3.6/site-packages/torch/nn/functional.py:1474: UserWarning: Using a target size (torch.Size([100])) that is different to the input size (torch.Size([100, 1])) is deprecated. Please ensure they have the same size.\n",
      "  \"Please ensure they have the same size.\".format(target.size(), input.size()))\n"
     ]
    },
    {
     "name": "stdout",
     "output_type": "stream",
     "text": [
      "Epoch [0/200], Step[300/600], d_loss: 0.5309, g_loss: 2.6516, D(x): 0.79, D(G(z)): 0.19\n",
      "Epoch [0/200], Step[600/600], d_loss: 2.2574, g_loss: 0.8113, D(x): 0.43, D(G(z)): 0.45\n",
      "Epoch [1/200], Step[300/600], d_loss: 1.6688, g_loss: 1.4659, D(x): 0.65, D(G(z)): 0.46\n",
      "Epoch [1/200], Step[600/600], d_loss: 0.1316, g_loss: 4.3763, D(x): 0.96, D(G(z)): 0.07\n",
      "Epoch [2/200], Step[300/600], d_loss: 0.6292, g_loss: 2.2588, D(x): 0.75, D(G(z)): 0.17\n",
      "Epoch [2/200], Step[600/600], d_loss: 0.7988, g_loss: 1.7797, D(x): 0.76, D(G(z)): 0.32\n",
      "Epoch [3/200], Step[300/600], d_loss: 0.7584, g_loss: 2.7641, D(x): 0.80, D(G(z)): 0.29\n",
      "Epoch [3/200], Step[600/600], d_loss: 1.4283, g_loss: 1.3157, D(x): 0.64, D(G(z)): 0.44\n",
      "Epoch [4/200], Step[300/600], d_loss: 0.3495, g_loss: 3.2987, D(x): 0.90, D(G(z)): 0.12\n",
      "Epoch [4/200], Step[600/600], d_loss: 1.2803, g_loss: 1.1740, D(x): 0.59, D(G(z)): 0.40\n",
      "Epoch [5/200], Step[300/600], d_loss: 1.1722, g_loss: 1.9675, D(x): 0.57, D(G(z)): 0.22\n",
      "Epoch [5/200], Step[600/600], d_loss: 1.7974, g_loss: 0.9628, D(x): 0.51, D(G(z)): 0.57\n",
      "Epoch [6/200], Step[300/600], d_loss: 1.3530, g_loss: 1.2004, D(x): 0.59, D(G(z)): 0.50\n",
      "Epoch [6/200], Step[600/600], d_loss: 0.8224, g_loss: 1.9385, D(x): 0.70, D(G(z)): 0.27\n",
      "Epoch [7/200], Step[300/600], d_loss: 0.4865, g_loss: 2.4545, D(x): 0.88, D(G(z)): 0.26\n",
      "Epoch [7/200], Step[600/600], d_loss: 1.8352, g_loss: 1.4978, D(x): 0.63, D(G(z)): 0.58\n",
      "Epoch [8/200], Step[300/600], d_loss: 0.9291, g_loss: 1.6059, D(x): 0.71, D(G(z)): 0.29\n",
      "Epoch [8/200], Step[600/600], d_loss: 1.7051, g_loss: 1.4000, D(x): 0.48, D(G(z)): 0.28\n",
      "Epoch [9/200], Step[300/600], d_loss: 0.5494, g_loss: 2.4653, D(x): 0.80, D(G(z)): 0.17\n",
      "Epoch [9/200], Step[600/600], d_loss: 1.0661, g_loss: 1.9460, D(x): 0.67, D(G(z)): 0.26\n",
      "Epoch [10/200], Step[300/600], d_loss: 0.7726, g_loss: 2.4095, D(x): 0.84, D(G(z)): 0.36\n",
      "Epoch [10/200], Step[600/600], d_loss: 0.4196, g_loss: 3.6294, D(x): 0.84, D(G(z)): 0.10\n",
      "Epoch [11/200], Step[300/600], d_loss: 0.4784, g_loss: 2.5315, D(x): 0.82, D(G(z)): 0.15\n",
      "Epoch [11/200], Step[600/600], d_loss: 0.4335, g_loss: 2.4839, D(x): 0.79, D(G(z)): 0.13\n",
      "Epoch [12/200], Step[300/600], d_loss: 0.7401, g_loss: 2.0420, D(x): 0.72, D(G(z)): 0.15\n",
      "Epoch [12/200], Step[600/600], d_loss: 0.5065, g_loss: 2.0637, D(x): 0.78, D(G(z)): 0.13\n",
      "Epoch [13/200], Step[300/600], d_loss: 0.6011, g_loss: 2.5222, D(x): 0.78, D(G(z)): 0.20\n",
      "Epoch [13/200], Step[600/600], d_loss: 1.7426, g_loss: 1.1689, D(x): 0.49, D(G(z)): 0.36\n",
      "Epoch [14/200], Step[300/600], d_loss: 0.8783, g_loss: 1.7997, D(x): 0.81, D(G(z)): 0.39\n",
      "Epoch [14/200], Step[600/600], d_loss: 0.8017, g_loss: 1.8073, D(x): 0.72, D(G(z)): 0.29\n",
      "Epoch [15/200], Step[300/600], d_loss: 0.7838, g_loss: 2.8603, D(x): 0.70, D(G(z)): 0.18\n",
      "Epoch [15/200], Step[600/600], d_loss: 1.7985, g_loss: 1.7794, D(x): 0.55, D(G(z)): 0.49\n",
      "Epoch [16/200], Step[300/600], d_loss: 0.8829, g_loss: 1.2817, D(x): 0.72, D(G(z)): 0.32\n",
      "Epoch [16/200], Step[600/600], d_loss: 1.0457, g_loss: 2.0245, D(x): 0.74, D(G(z)): 0.31\n",
      "Epoch [17/200], Step[300/600], d_loss: 0.8169, g_loss: 3.1381, D(x): 0.71, D(G(z)): 0.20\n",
      "Epoch [17/200], Step[600/600], d_loss: 0.8164, g_loss: 2.1566, D(x): 0.74, D(G(z)): 0.27\n",
      "Epoch [18/200], Step[300/600], d_loss: 1.0738, g_loss: 2.7594, D(x): 0.68, D(G(z)): 0.25\n",
      "Epoch [18/200], Step[600/600], d_loss: 0.7713, g_loss: 2.0212, D(x): 0.78, D(G(z)): 0.29\n",
      "Epoch [19/200], Step[300/600], d_loss: 1.7861, g_loss: 1.1829, D(x): 0.56, D(G(z)): 0.46\n",
      "Epoch [19/200], Step[600/600], d_loss: 0.6501, g_loss: 2.0299, D(x): 0.73, D(G(z)): 0.17\n",
      "Epoch [20/200], Step[300/600], d_loss: 1.0020, g_loss: 2.9095, D(x): 0.69, D(G(z)): 0.21\n",
      "Epoch [20/200], Step[600/600], d_loss: 0.7252, g_loss: 2.6028, D(x): 0.84, D(G(z)): 0.32\n",
      "Epoch [21/200], Step[300/600], d_loss: 0.6441, g_loss: 1.8729, D(x): 0.82, D(G(z)): 0.26\n",
      "Epoch [21/200], Step[600/600], d_loss: 0.9662, g_loss: 1.4863, D(x): 0.76, D(G(z)): 0.35\n",
      "Epoch [22/200], Step[300/600], d_loss: 0.8941, g_loss: 1.3556, D(x): 0.73, D(G(z)): 0.27\n",
      "Epoch [22/200], Step[600/600], d_loss: 0.6727, g_loss: 2.4101, D(x): 0.77, D(G(z)): 0.23\n",
      "Epoch [23/200], Step[300/600], d_loss: 0.7678, g_loss: 1.7464, D(x): 0.77, D(G(z)): 0.30\n",
      "Epoch [23/200], Step[600/600], d_loss: 0.8240, g_loss: 1.6250, D(x): 0.79, D(G(z)): 0.36\n",
      "Epoch [24/200], Step[300/600], d_loss: 0.9504, g_loss: 1.9247, D(x): 0.68, D(G(z)): 0.28\n",
      "Epoch [24/200], Step[600/600], d_loss: 0.7695, g_loss: 1.7126, D(x): 0.70, D(G(z)): 0.23\n",
      "Epoch [25/200], Step[300/600], d_loss: 0.7339, g_loss: 1.7120, D(x): 0.71, D(G(z)): 0.23\n",
      "Epoch [25/200], Step[600/600], d_loss: 0.9323, g_loss: 2.0295, D(x): 0.73, D(G(z)): 0.31\n",
      "Epoch [26/200], Step[300/600], d_loss: 0.6988, g_loss: 2.3213, D(x): 0.80, D(G(z)): 0.25\n",
      "Epoch [26/200], Step[600/600], d_loss: 0.6962, g_loss: 1.9388, D(x): 0.82, D(G(z)): 0.30\n",
      "Epoch [27/200], Step[300/600], d_loss: 0.7207, g_loss: 2.4931, D(x): 0.77, D(G(z)): 0.26\n",
      "Epoch [27/200], Step[600/600], d_loss: 0.7408, g_loss: 2.1665, D(x): 0.73, D(G(z)): 0.22\n",
      "Epoch [28/200], Step[300/600], d_loss: 0.9663, g_loss: 2.0794, D(x): 0.68, D(G(z)): 0.25\n",
      "Epoch [28/200], Step[600/600], d_loss: 0.8515, g_loss: 1.7461, D(x): 0.71, D(G(z)): 0.24\n",
      "Epoch [29/200], Step[300/600], d_loss: 0.9394, g_loss: 1.8435, D(x): 0.66, D(G(z)): 0.24\n",
      "Epoch [29/200], Step[600/600], d_loss: 0.9079, g_loss: 1.7545, D(x): 0.70, D(G(z)): 0.31\n",
      "Epoch [30/200], Step[300/600], d_loss: 0.8705, g_loss: 1.5295, D(x): 0.76, D(G(z)): 0.30\n",
      "Epoch [30/200], Step[600/600], d_loss: 0.9223, g_loss: 1.5076, D(x): 0.73, D(G(z)): 0.31\n",
      "Epoch [31/200], Step[300/600], d_loss: 0.8254, g_loss: 1.9665, D(x): 0.73, D(G(z)): 0.23\n",
      "Epoch [31/200], Step[600/600], d_loss: 0.5945, g_loss: 2.2866, D(x): 0.81, D(G(z)): 0.21\n",
      "Epoch [32/200], Step[300/600], d_loss: 0.8853, g_loss: 1.8050, D(x): 0.78, D(G(z)): 0.31\n",
      "Epoch [32/200], Step[600/600], d_loss: 1.0401, g_loss: 2.0798, D(x): 0.72, D(G(z)): 0.31\n",
      "Epoch [33/200], Step[300/600], d_loss: 0.8667, g_loss: 2.6323, D(x): 0.68, D(G(z)): 0.18\n",
      "Epoch [33/200], Step[600/600], d_loss: 0.8556, g_loss: 1.6299, D(x): 0.68, D(G(z)): 0.28\n",
      "Epoch [34/200], Step[300/600], d_loss: 0.9350, g_loss: 1.7595, D(x): 0.75, D(G(z)): 0.35\n",
      "Epoch [34/200], Step[600/600], d_loss: 0.9461, g_loss: 1.7809, D(x): 0.72, D(G(z)): 0.32\n",
      "Epoch [35/200], Step[300/600], d_loss: 0.8312, g_loss: 1.8604, D(x): 0.70, D(G(z)): 0.26\n",
      "Epoch [35/200], Step[600/600], d_loss: 0.9078, g_loss: 1.9198, D(x): 0.79, D(G(z)): 0.38\n",
      "Epoch [36/200], Step[300/600], d_loss: 0.9402, g_loss: 1.6005, D(x): 0.77, D(G(z)): 0.39\n",
      "Epoch [36/200], Step[600/600], d_loss: 1.0273, g_loss: 1.8539, D(x): 0.67, D(G(z)): 0.34\n",
      "Epoch [37/200], Step[300/600], d_loss: 0.9818, g_loss: 2.2176, D(x): 0.68, D(G(z)): 0.28\n"
     ]
    }
   ],
   "source": [
    "# Start training\n",
    "for epoch in range(200):\n",
    "    for i, (images, _) in enumerate(data_loader):\n",
    "        # Build mini-batch dataset\n",
    "        batch_size = images.size(0)\n",
    "        images = to_var(images.view(batch_size, -1))\n",
    "\n",
    "        # Create the labels which are later used as input for the BCE loss\n",
    "        real_labels = to_var(torch.ones(batch_size))\n",
    "        fake_labels = to_var(torch.zeros(batch_size))\n",
    "\n",
    "        #============= Train the discriminator =============#\n",
    "        # Compute BCE_Loss using real images where BCE_Loss(x, y): - y * log(D(x)) - (1-y) * log(1 - D(x))\n",
    "        # Second term of the loss is always zero since real_labels == 1\n",
    "        outputs = D(images)\n",
    "        d_loss_real = criterion(outputs, real_labels)\n",
    "        real_score = outputs\n",
    "\n",
    "        # Compute BCELoss using fake images\n",
    "        # First term of the loss is always zero since fake_labels == 0\n",
    "        z = to_var(torch.randn(batch_size, 64))\n",
    "        fake_images = G(z)\n",
    "        outputs = D(fake_images)\n",
    "        d_loss_fake = criterion(outputs, fake_labels)\n",
    "        fake_score = outputs\n",
    "\n",
    "        # Backprop + Optimize\n",
    "        d_loss = d_loss_real + d_loss_fake\n",
    "        D.zero_grad()\n",
    "        d_loss.backward()\n",
    "        d_optimizer.step()\n",
    "\n",
    "        #=============== Train the generator ===============#\n",
    "        # Compute loss with fake images\n",
    "        z = to_var(torch.randn(batch_size, 64))\n",
    "        fake_images = G(z)\n",
    "        outputs = D(fake_images)\n",
    "\n",
    "        # We train G to maximize log(D(G(z)) instead of minimizing log(1-D(G(z)))\n",
    "        # For the reason, see the last paragraph of section 3. https://arxiv.org/pdf/1406.2661.pdf\n",
    "        g_loss = criterion(outputs, real_labels)\n",
    "\n",
    "        # Backprop + Optimize\n",
    "        D.zero_grad()\n",
    "        G.zero_grad()\n",
    "        g_loss.backward()\n",
    "        g_optimizer.step()\n",
    "\n",
    "        if (i + 1) % 300 == 0:\n",
    "            print('Epoch [%d/%d], Step[%d/%d], d_loss: %.4f, '\n",
    "                  'g_loss: %.4f, D(x): %.2f, D(G(z)): %.2f' %\n",
    "                  (epoch, 200, i + 1, 600, d_loss.item(), g_loss.item(),\n",
    "                   real_score.data.mean(), fake_score.data.mean()))\n",
    "\n",
    "    # Save real images\n",
    "    if (epoch + 1) == 1:\n",
    "        images = images.view(images.size(0), 1, 28, 28)\n",
    "        save_image(denorm(images.data), './data/real_images.png')\n",
    "\n",
    "    # Save sampled images\n",
    "    fake_images = fake_images.view(fake_images.size(0), 1, 28, 28)\n",
    "    save_image(\n",
    "        denorm(fake_images.data), './data/fake_images-%d.png' % (epoch + 1))"
   ]
  },
  {
   "cell_type": "markdown",
   "metadata": {},
   "source": [
    "Save the trained parameters"
   ]
  },
  {
   "cell_type": "code",
   "execution_count": null,
   "metadata": {
    "collapsed": true
   },
   "outputs": [],
   "source": [
    "torch.save(G.state_dict(), './generator.pkl')\n",
    "torch.save(D.state_dict(), './discriminator.pkl')"
   ]
  }
 ],
 "metadata": {
  "kernelspec": {
   "display_name": "Python 3",
   "language": "python",
   "name": "python3"
  },
  "language_info": {
   "codemirror_mode": {
    "name": "ipython",
    "version": 3
   },
   "file_extension": ".py",
   "mimetype": "text/x-python",
   "name": "python",
   "nbconvert_exporter": "python",
   "pygments_lexer": "ipython3",
   "version": "3.6.3"
  },
  "toc": {
   "nav_menu": {},
   "number_sections": true,
   "sideBar": true,
   "skip_h1_title": false,
   "toc_cell": false,
   "toc_position": {},
   "toc_section_display": "block",
   "toc_window_display": false
  }
 },
 "nbformat": 4,
 "nbformat_minor": 2
}
