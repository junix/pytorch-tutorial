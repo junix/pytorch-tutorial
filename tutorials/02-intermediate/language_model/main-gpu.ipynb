{
 "cells": [
  {
   "cell_type": "code",
   "execution_count": 1,
   "metadata": {
    "collapsed": true
   },
   "outputs": [],
   "source": [
    "# Some part of the code was referenced from below.\n",
    "# https://github.com/pytorch/examples/tree/master/word_language_model \n",
    "import torch \n",
    "import torch.nn as nn\n",
    "import numpy as np\n",
    "from torch.autograd import Variable\n",
    "from data_utils import Dictionary, Corpus"
   ]
  },
  {
   "cell_type": "code",
   "execution_count": 2,
   "metadata": {
    "collapsed": true
   },
   "outputs": [],
   "source": [
    "# Hyper Parameters\n",
    "embed_size = 128\n",
    "hidden_size = 1024\n",
    "num_layers = 1\n",
    "num_epochs = 5\n",
    "num_samples = 1000   # number of words to be sampled\n",
    "batch_size = 20\n",
    "seq_length = 30\n",
    "learning_rate = 0.002"
   ]
  },
  {
   "cell_type": "code",
   "execution_count": 11,
   "metadata": {
    "collapsed": true
   },
   "outputs": [],
   "source": [
    "# Load Penn Treebank Dataset\n",
    "train_path = './data/train.txt'\n",
    "sample_path = './sample.txt'\n",
    "corpus = Corpus()\n",
    "ids = corpus.get_data(train_path, batch_size)\n",
    "vocab_size = len(corpus.dictionary)\n",
    "num_batches = ids.size(1) // seq_length"
   ]
  },
  {
   "cell_type": "code",
   "execution_count": 12,
   "metadata": {
    "collapsed": true
   },
   "outputs": [],
   "source": [
    "# RNN Based Language Model\n",
    "class RNNLM(nn.Module):\n",
    "    def __init__(self, vocab_size, embed_size, hidden_size, num_layers):\n",
    "        super(RNNLM, self).__init__()\n",
    "        self.embed = nn.Embedding(vocab_size, embed_size)\n",
    "        self.lstm = nn.LSTM(embed_size, hidden_size, num_layers, batch_first=True)\n",
    "        self.linear = nn.Linear(hidden_size, vocab_size)\n",
    "        self.init_weights()\n",
    "\n",
    "    def init_weights(self):\n",
    "        self.embed.weight.data.uniform_(-0.1, 0.1)\n",
    "        self.linear.bias.data.fill_(0)\n",
    "        self.linear.weight.data.uniform_(-0.1, 0.1)\n",
    "\n",
    "    def forward(self, x, h):\n",
    "        # Embed word ids to vectors\n",
    "        x = self.embed(x) \n",
    "\n",
    "        # Forward propagate RNN  \n",
    "        out, h = self.lstm(x, h)\n",
    "\n",
    "        # Reshape output to (batch_size*sequence_length, hidden_size)\n",
    "        out = out.contiguous().view(out.size(0)*out.size(1), out.size(2))\n",
    "\n",
    "        # Decode hidden states of all time step\n",
    "        out = self.linear(out)  \n",
    "        return out, h"
   ]
  },
  {
   "cell_type": "code",
   "execution_count": 13,
   "metadata": {},
   "outputs": [
    {
     "data": {
      "text/plain": [
       "RNNLM(\n",
       "  (embed): Embedding(10000, 128)\n",
       "  (lstm): LSTM(128, 1024, batch_first=True)\n",
       "  (linear): Linear(in_features=1024, out_features=10000, bias=True)\n",
       ")"
      ]
     },
     "execution_count": 13,
     "metadata": {},
     "output_type": "execute_result"
    }
   ],
   "source": [
    "model = RNNLM(vocab_size, embed_size, hidden_size, num_layers)\n",
    "model.cuda()"
   ]
  },
  {
   "cell_type": "code",
   "execution_count": 14,
   "metadata": {
    "collapsed": true
   },
   "outputs": [],
   "source": [
    "# Loss and Optimizer\n",
    "criterion = nn.CrossEntropyLoss()\n",
    "optimizer = torch.optim.Adam(model.parameters(), lr=learning_rate)"
   ]
  },
  {
   "cell_type": "code",
   "execution_count": 15,
   "metadata": {
    "collapsed": true
   },
   "outputs": [],
   "source": [
    "# Truncated Backpropagation \n",
    "def detach(states):\n",
    "    return [state.detach() for state in states] "
   ]
  },
  {
   "cell_type": "code",
   "execution_count": 20,
   "metadata": {},
   "outputs": [
    {
     "name": "stdout",
     "output_type": "stream",
     "text": [
      "Epoch [1/5], Step[0/1549], Loss: 3.366, Perplexity: 28.96\n",
      "Epoch [1/5], Step[100/1549], Loss: 2.934, Perplexity: 18.80\n",
      "Epoch [1/5], Step[200/1549], Loss: 3.104, Perplexity: 22.29\n",
      "Epoch [1/5], Step[300/1549], Loss: 3.105, Perplexity: 22.31\n",
      "Epoch [1/5], Step[400/1549], Loss: 3.024, Perplexity: 20.58\n",
      "Epoch [1/5], Step[500/1549], Loss: 2.551, Perplexity: 12.82\n",
      "Epoch [1/5], Step[600/1549], Loss: 3.102, Perplexity: 22.23\n",
      "Epoch [1/5], Step[700/1549], Loss: 3.039, Perplexity: 20.88\n",
      "Epoch [1/5], Step[800/1549], Loss: 3.133, Perplexity: 22.93\n",
      "Epoch [1/5], Step[900/1549], Loss: 2.749, Perplexity: 15.63\n",
      "Epoch [1/5], Step[1000/1549], Loss: 2.903, Perplexity: 18.23\n",
      "Epoch [1/5], Step[1100/1549], Loss: 3.026, Perplexity: 20.62\n",
      "Epoch [1/5], Step[1200/1549], Loss: 3.107, Perplexity: 22.36\n",
      "Epoch [1/5], Step[1300/1549], Loss: 2.793, Perplexity: 16.33\n",
      "Epoch [1/5], Step[1400/1549], Loss: 2.511, Perplexity: 12.32\n",
      "Epoch [1/5], Step[1500/1549], Loss: 2.926, Perplexity: 18.65\n",
      "Epoch [2/5], Step[0/1549], Loss: 3.054, Perplexity: 21.21\n",
      "Epoch [2/5], Step[100/1549], Loss: 2.815, Perplexity: 16.69\n",
      "Epoch [2/5], Step[200/1549], Loss: 2.857, Perplexity: 17.41\n",
      "Epoch [2/5], Step[300/1549], Loss: 2.935, Perplexity: 18.82\n",
      "Epoch [2/5], Step[400/1549], Loss: 2.793, Perplexity: 16.33\n",
      "Epoch [2/5], Step[500/1549], Loss: 2.458, Perplexity: 11.68\n",
      "Epoch [2/5], Step[600/1549], Loss: 3.023, Perplexity: 20.54\n",
      "Epoch [2/5], Step[700/1549], Loss: 2.917, Perplexity: 18.48\n",
      "Epoch [2/5], Step[800/1549], Loss: 2.967, Perplexity: 19.44\n",
      "Epoch [2/5], Step[900/1549], Loss: 2.681, Perplexity: 14.60\n",
      "Epoch [2/5], Step[1000/1549], Loss: 2.771, Perplexity: 15.98\n",
      "Epoch [2/5], Step[1100/1549], Loss: 2.890, Perplexity: 18.00\n",
      "Epoch [2/5], Step[1200/1549], Loss: 2.953, Perplexity: 19.17\n",
      "Epoch [2/5], Step[1300/1549], Loss: 2.671, Perplexity: 14.45\n",
      "Epoch [2/5], Step[1400/1549], Loss: 2.350, Perplexity: 10.49\n",
      "Epoch [2/5], Step[1500/1549], Loss: 2.826, Perplexity: 16.87\n",
      "Epoch [3/5], Step[0/1549], Loss: 2.970, Perplexity: 19.49\n",
      "Epoch [3/5], Step[100/1549], Loss: 2.744, Perplexity: 15.54\n",
      "Epoch [3/5], Step[200/1549], Loss: 2.689, Perplexity: 14.72\n",
      "Epoch [3/5], Step[300/1549], Loss: 2.805, Perplexity: 16.52\n",
      "Epoch [3/5], Step[400/1549], Loss: 2.699, Perplexity: 14.86\n",
      "Epoch [3/5], Step[500/1549], Loss: 2.399, Perplexity: 11.01\n",
      "Epoch [3/5], Step[600/1549], Loss: 2.939, Perplexity: 18.90\n",
      "Epoch [3/5], Step[700/1549], Loss: 2.776, Perplexity: 16.05\n",
      "Epoch [3/5], Step[800/1549], Loss: 2.778, Perplexity: 16.08\n",
      "Epoch [3/5], Step[900/1549], Loss: 2.510, Perplexity: 12.31\n",
      "Epoch [3/5], Step[1000/1549], Loss: 2.580, Perplexity: 13.19\n",
      "Epoch [3/5], Step[1100/1549], Loss: 2.746, Perplexity: 15.58\n",
      "Epoch [3/5], Step[1200/1549], Loss: 2.761, Perplexity: 15.82\n",
      "Epoch [3/5], Step[1300/1549], Loss: 2.538, Perplexity: 12.66\n",
      "Epoch [3/5], Step[1400/1549], Loss: 2.248, Perplexity:  9.47\n",
      "Epoch [3/5], Step[1500/1549], Loss: 2.809, Perplexity: 16.59\n",
      "Epoch [4/5], Step[0/1549], Loss: 2.740, Perplexity: 15.49\n",
      "Epoch [4/5], Step[100/1549], Loss: 2.592, Perplexity: 13.36\n",
      "Epoch [4/5], Step[200/1549], Loss: 2.838, Perplexity: 17.09\n",
      "Epoch [4/5], Step[300/1549], Loss: 2.675, Perplexity: 14.51\n",
      "Epoch [4/5], Step[400/1549], Loss: 2.687, Perplexity: 14.68\n",
      "Epoch [4/5], Step[500/1549], Loss: 2.259, Perplexity:  9.57\n",
      "Epoch [4/5], Step[600/1549], Loss: 2.844, Perplexity: 17.19\n",
      "Epoch [4/5], Step[700/1549], Loss: 2.653, Perplexity: 14.20\n",
      "Epoch [4/5], Step[800/1549], Loss: 2.777, Perplexity: 16.07\n",
      "Epoch [4/5], Step[900/1549], Loss: 2.404, Perplexity: 11.07\n",
      "Epoch [4/5], Step[1000/1549], Loss: 2.616, Perplexity: 13.68\n",
      "Epoch [4/5], Step[1100/1549], Loss: 2.661, Perplexity: 14.31\n",
      "Epoch [4/5], Step[1200/1549], Loss: 2.794, Perplexity: 16.34\n",
      "Epoch [4/5], Step[1300/1549], Loss: 2.390, Perplexity: 10.92\n",
      "Epoch [4/5], Step[1400/1549], Loss: 2.164, Perplexity:  8.70\n",
      "Epoch [4/5], Step[1500/1549], Loss: 2.681, Perplexity: 14.60\n",
      "Epoch [5/5], Step[0/1549], Loss: 2.711, Perplexity: 15.04\n",
      "Epoch [5/5], Step[100/1549], Loss: 2.411, Perplexity: 11.15\n",
      "Epoch [5/5], Step[200/1549], Loss: 2.669, Perplexity: 14.43\n",
      "Epoch [5/5], Step[300/1549], Loss: 2.623, Perplexity: 13.78\n",
      "Epoch [5/5], Step[400/1549], Loss: 2.612, Perplexity: 13.63\n",
      "Epoch [5/5], Step[500/1549], Loss: 2.265, Perplexity:  9.63\n",
      "Epoch [5/5], Step[600/1549], Loss: 2.813, Perplexity: 16.66\n",
      "Epoch [5/5], Step[700/1549], Loss: 2.613, Perplexity: 13.64\n",
      "Epoch [5/5], Step[800/1549], Loss: 2.695, Perplexity: 14.80\n",
      "Epoch [5/5], Step[900/1549], Loss: 2.280, Perplexity:  9.78\n",
      "Epoch [5/5], Step[1000/1549], Loss: 2.487, Perplexity: 12.03\n",
      "Epoch [5/5], Step[1100/1549], Loss: 2.676, Perplexity: 14.52\n",
      "Epoch [5/5], Step[1200/1549], Loss: 2.749, Perplexity: 15.63\n",
      "Epoch [5/5], Step[1300/1549], Loss: 2.291, Perplexity:  9.88\n",
      "Epoch [5/5], Step[1400/1549], Loss: 2.137, Perplexity:  8.47\n",
      "Epoch [5/5], Step[1500/1549], Loss: 2.635, Perplexity: 13.94\n"
     ]
    }
   ],
   "source": [
    "# Training\n",
    "for epoch in range(num_epochs):\n",
    "    # Initial hidden and memory states\n",
    "    device = torch.device('cuda')\n",
    "    states = (torch.zeros(num_layers, batch_size, hidden_size, device=device),\n",
    "              torch.zeros(num_layers, batch_size, hidden_size, device=device))\n",
    "\n",
    "    for i in range(0, ids.size(1) - seq_length, seq_length):\n",
    "        # Get batch inputs and targets\n",
    "        inputs = ids[:, i:i+seq_length].cuda()\n",
    "        targets = ids[:, (i+1):(i+1)+seq_length].contiguous().cuda()\n",
    "\n",
    "        # Forward + Backward + Optimize\n",
    "        model.zero_grad()\n",
    "        states = detach(states)\n",
    "        outputs, states = model(inputs, states) \n",
    "        loss = criterion(outputs, targets.view(-1))\n",
    "        loss.backward()\n",
    "        torch.nn.utils.clip_grad_norm_(model.parameters(), 0.5)\n",
    "        optimizer.step()\n",
    "\n",
    "        step = (i+1) // seq_length\n",
    "        if step % 100 == 0:\n",
    "            print ('Epoch [%d/%d], Step[%d/%d], Loss: %.3f, Perplexity: %5.2f' %\n",
    "                   (epoch+1, num_epochs, step, num_batches, loss.item(), np.exp(loss.item())))"
   ]
  },
  {
   "cell_type": "code",
   "execution_count": 17,
   "metadata": {},
   "outputs": [
    {
     "name": "stderr",
     "output_type": "stream",
     "text": [
      "/home/wanglijun/anaconda3/lib/python3.6/site-packages/ipykernel_launcher.py:10: UserWarning: volatile was removed and now has no effect. Use `with torch.no_grad():` instead.\n",
      "  # Remove the CWD from sys.path while we load stuff.\n"
     ]
    },
    {
     "name": "stdout",
     "output_type": "stream",
     "text": [
      "Sampled [100/1000] words and save to ./sample.txt\n",
      "Sampled [200/1000] words and save to ./sample.txt\n",
      "Sampled [300/1000] words and save to ./sample.txt\n",
      "Sampled [400/1000] words and save to ./sample.txt\n",
      "Sampled [500/1000] words and save to ./sample.txt\n",
      "Sampled [600/1000] words and save to ./sample.txt\n",
      "Sampled [700/1000] words and save to ./sample.txt\n",
      "Sampled [800/1000] words and save to ./sample.txt\n",
      "Sampled [900/1000] words and save to ./sample.txt\n",
      "Sampled [1000/1000] words and save to ./sample.txt\n"
     ]
    }
   ],
   "source": [
    "# Sampling\n",
    "with open(sample_path, 'w') as f:\n",
    "    # Set intial hidden ane memory states\n",
    "    state = (Variable(torch.zeros(num_layers, 1, hidden_size)).cuda(),\n",
    "             Variable(torch.zeros(num_layers, 1, hidden_size)).cuda())\n",
    "\n",
    "    # Select one word id randomly\n",
    "    prob = torch.ones(vocab_size)\n",
    "    input = Variable(\n",
    "        torch.multinomial(prob, num_samples=1).unsqueeze(1),\n",
    "        volatile=True).cuda()\n",
    "\n",
    "    for i in range(num_samples):\n",
    "        # Forward propagate rnn\n",
    "        output, state = model(input, state)\n",
    "\n",
    "        # Sample a word id\n",
    "        prob = output.squeeze().data.exp().cpu()\n",
    "        word_id = torch.multinomial(prob, 1)[0]\n",
    "\n",
    "        # Feed sampled word id to next time step\n",
    "        input.data.fill_(word_id)\n",
    "\n",
    "        # File write\n",
    "        word = corpus.dictionary.idx2word[word_id.item()]\n",
    "        word = '\\n' if word == '<eos>' else word + ' '\n",
    "        f.write(word)\n",
    "\n",
    "        if (i + 1) % 100 == 0:\n",
    "            print('Sampled [%d/%d] words and save to %s' % (i + 1, num_samples,\n",
    "                                                            sample_path))"
   ]
  },
  {
   "cell_type": "code",
   "execution_count": 18,
   "metadata": {},
   "outputs": [],
   "source": [
    "# Save the Trained Model\n",
    "torch.save(model.state_dict(), 'model.pkl')"
   ]
  },
  {
   "cell_type": "code",
   "execution_count": null,
   "metadata": {
    "collapsed": true
   },
   "outputs": [],
   "source": []
  }
 ],
 "metadata": {
  "kernelspec": {
   "display_name": "Python 3",
   "language": "python",
   "name": "python3"
  },
  "language_info": {
   "codemirror_mode": {
    "name": "ipython",
    "version": 3
   },
   "file_extension": ".py",
   "mimetype": "text/x-python",
   "name": "python",
   "nbconvert_exporter": "python",
   "pygments_lexer": "ipython3",
   "version": "3.6.3"
  },
  "toc": {
   "nav_menu": {},
   "number_sections": true,
   "sideBar": true,
   "skip_h1_title": false,
   "toc_cell": false,
   "toc_position": {},
   "toc_section_display": "block",
   "toc_window_display": false
  }
 },
 "nbformat": 4,
 "nbformat_minor": 2
}
