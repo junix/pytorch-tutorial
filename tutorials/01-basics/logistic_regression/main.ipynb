{
 "cells": [
  {
   "cell_type": "code",
   "execution_count": 12,
   "metadata": {},
   "outputs": [],
   "source": [
    "import torch\n",
    "import torch.nn as nn\n",
    "import torchvision.datasets as dsets\n",
    "import torchvision.transforms as transforms"
   ]
  },
  {
   "cell_type": "markdown",
   "metadata": {},
   "source": [
    "Hyper Parameters "
   ]
  },
  {
   "cell_type": "code",
   "execution_count": 13,
   "metadata": {},
   "outputs": [],
   "source": [
    "input_size = 784\n",
    "num_classes = 10\n",
    "num_epochs = 5\n",
    "batch_size = 100\n",
    "learning_rate = 0.001"
   ]
  },
  {
   "cell_type": "markdown",
   "metadata": {},
   "source": [
    "MNIST Dataset (Images and Labels)"
   ]
  },
  {
   "cell_type": "code",
   "execution_count": 14,
   "metadata": {},
   "outputs": [],
   "source": [
    "train_dataset = dsets.MNIST(\n",
    "    root='./data', train=True, transform=transforms.ToTensor(), download=True)\n",
    "\n",
    "test_dataset = dsets.MNIST(\n",
    "    root='./data', train=False, transform=transforms.ToTensor())"
   ]
  },
  {
   "cell_type": "markdown",
   "metadata": {},
   "source": [
    "Dataset Loader (Input Pipline)"
   ]
  },
  {
   "cell_type": "code",
   "execution_count": 15,
   "metadata": {},
   "outputs": [],
   "source": [
    "train_loader = torch.utils.data.DataLoader(\n",
    "    dataset=train_dataset, batch_size=batch_size, shuffle=True)\n",
    "\n",
    "test_loader = torch.utils.data.DataLoader(\n",
    "    dataset=test_dataset, batch_size=batch_size, shuffle=False)"
   ]
  },
  {
   "cell_type": "markdown",
   "metadata": {},
   "source": [
    "Model"
   ]
  },
  {
   "cell_type": "code",
   "execution_count": 16,
   "metadata": {},
   "outputs": [],
   "source": [
    "class LogisticRegression(nn.Module):\n",
    "    def __init__(self, input_size, num_classes):\n",
    "        super(LogisticRegression, self).__init__()\n",
    "        self.linear = nn.Linear(input_size, num_classes)\n",
    "\n",
    "    def forward(self, x):\n",
    "        x = x.view(-1, 28 * 28)\n",
    "        out = self.linear(x)\n",
    "        return out"
   ]
  },
  {
   "cell_type": "code",
   "execution_count": 17,
   "metadata": {},
   "outputs": [],
   "source": [
    "model = LogisticRegression(input_size, num_classes)"
   ]
  },
  {
   "cell_type": "markdown",
   "metadata": {},
   "source": [
    "\n",
    "Loss and Optimizer\n",
    "\n",
    "Softmax is <span class=\"burk\">internally</span> computed.\n",
    "\n",
    "Set parameters to be updated."
   ]
  },
  {
   "cell_type": "code",
   "execution_count": 18,
   "metadata": {},
   "outputs": [],
   "source": [
    "criterion = nn.CrossEntropyLoss()\n",
    "optimizer = torch.optim.SGD(model.parameters(), lr=learning_rate)"
   ]
  },
  {
   "cell_type": "markdown",
   "metadata": {},
   "source": [
    "Training the Model"
   ]
  },
  {
   "cell_type": "code",
   "execution_count": 20,
   "metadata": {},
   "outputs": [
    {
     "name": "stdout",
     "output_type": "stream",
     "text": [
      "Epoch: [1/5], Step: [100/600], Loss: 1.0199\n",
      "Epoch: [1/5], Step: [200/600], Loss: 0.9715\n",
      "Epoch: [1/5], Step: [300/600], Loss: 0.9932\n",
      "Epoch: [1/5], Step: [400/600], Loss: 0.9211\n",
      "Epoch: [1/5], Step: [500/600], Loss: 0.9605\n",
      "Epoch: [1/5], Step: [600/600], Loss: 0.8711\n",
      "Epoch: [2/5], Step: [100/600], Loss: 0.9282\n",
      "Epoch: [2/5], Step: [200/600], Loss: 0.8996\n",
      "Epoch: [2/5], Step: [300/600], Loss: 0.8775\n",
      "Epoch: [2/5], Step: [400/600], Loss: 0.8941\n",
      "Epoch: [2/5], Step: [500/600], Loss: 0.8430\n",
      "Epoch: [2/5], Step: [600/600], Loss: 0.8450\n",
      "Epoch: [3/5], Step: [100/600], Loss: 0.8696\n",
      "Epoch: [3/5], Step: [200/600], Loss: 0.8127\n",
      "Epoch: [3/5], Step: [300/600], Loss: 0.7602\n",
      "Epoch: [3/5], Step: [400/600], Loss: 0.7931\n",
      "Epoch: [3/5], Step: [500/600], Loss: 0.8892\n",
      "Epoch: [3/5], Step: [600/600], Loss: 0.7710\n",
      "Epoch: [4/5], Step: [100/600], Loss: 0.8848\n",
      "Epoch: [4/5], Step: [200/600], Loss: 0.8064\n",
      "Epoch: [4/5], Step: [300/600], Loss: 0.6603\n",
      "Epoch: [4/5], Step: [400/600], Loss: 0.7730\n",
      "Epoch: [4/5], Step: [500/600], Loss: 0.8910\n",
      "Epoch: [4/5], Step: [600/600], Loss: 0.6882\n",
      "Epoch: [5/5], Step: [100/600], Loss: 0.7511\n",
      "Epoch: [5/5], Step: [200/600], Loss: 0.8586\n",
      "Epoch: [5/5], Step: [300/600], Loss: 0.7412\n",
      "Epoch: [5/5], Step: [400/600], Loss: 0.7737\n",
      "Epoch: [5/5], Step: [500/600], Loss: 0.7441\n",
      "Epoch: [5/5], Step: [600/600], Loss: 0.7945\n"
     ]
    }
   ],
   "source": [
    "for epoch in range(num_epochs):\n",
    "    for i, (images, labels) in enumerate(train_loader):\n",
    "        # Forward + Backward + Optimize\n",
    "        optimizer.zero_grad()\n",
    "        outputs = model(images)\n",
    "        loss = criterion(outputs, labels)\n",
    "        loss.backward()\n",
    "        optimizer.step()\n",
    "\n",
    "        if (i + 1) % 100 == 0:\n",
    "            print('Epoch: [%d/%d], Step: [%d/%d], Loss: %.4f' %\n",
    "                  (epoch + 1, num_epochs, i + 1,\n",
    "                   len(train_dataset) // batch_size, loss.item()))"
   ]
  },
  {
   "cell_type": "markdown",
   "metadata": {},
   "source": [
    "Test the Model"
   ]
  },
  {
   "cell_type": "code",
   "execution_count": 21,
   "metadata": {},
   "outputs": [
    {
     "name": "stdout",
     "output_type": "stream",
     "text": [
      "Accuracy of the model on the 10000 test images: 85 %\n"
     ]
    }
   ],
   "source": [
    "correct = 0\n",
    "total = 0\n",
    "for images, labels in test_loader:\n",
    "    outputs = model(images)\n",
    "    _, predicted = torch.max(outputs, 1)\n",
    "    total += labels.size(0)\n",
    "    correct += (predicted == labels).sum()\n",
    "\n",
    "print('Accuracy of the model on the 10000 test images: %d %%' %\n",
    "      (100 * correct / total))"
   ]
  },
  {
   "cell_type": "markdown",
   "metadata": {},
   "source": [
    "Save the Model"
   ]
  },
  {
   "cell_type": "code",
   "execution_count": 11,
   "metadata": {},
   "outputs": [],
   "source": [
    "torch.save(model.state_dict(), 'model.pkl')"
   ]
  }
 ],
 "metadata": {
  "kernelspec": {
   "display_name": "Python 3",
   "language": "python",
   "name": "python3"
  },
  "language_info": {
   "codemirror_mode": {
    "name": "ipython",
    "version": 3
   },
   "file_extension": ".py",
   "mimetype": "text/x-python",
   "name": "python",
   "nbconvert_exporter": "python",
   "pygments_lexer": "ipython3",
   "version": "3.6.4"
  },
  "toc": {
   "nav_menu": {},
   "number_sections": true,
   "sideBar": true,
   "skip_h1_title": false,
   "title_cell": "Table of Contents",
   "title_sidebar": "Contents",
   "toc_cell": false,
   "toc_position": {},
   "toc_section_display": true,
   "toc_window_display": false
  }
 },
 "nbformat": 4,
 "nbformat_minor": 2
}
