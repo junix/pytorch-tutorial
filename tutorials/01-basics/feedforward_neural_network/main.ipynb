{
 "cells": [
  {
   "cell_type": "code",
   "execution_count": 2,
   "metadata": {},
   "outputs": [],
   "source": [
    "import torch\n",
    "import torch.nn as nn\n",
    "import torchvision.datasets as dsets\n",
    "import torchvision.transforms as transforms"
   ]
  },
  {
   "cell_type": "markdown",
   "metadata": {},
   "source": [
    "Hyper Parameters"
   ]
  },
  {
   "cell_type": "code",
   "execution_count": 3,
   "metadata": {},
   "outputs": [],
   "source": [
    "input_size = 784\n",
    "hidden_size = 500\n",
    "num_classes = 10\n",
    "num_epochs = 5\n",
    "batch_size = 100\n",
    "learning_rate = 0.001"
   ]
  },
  {
   "cell_type": "markdown",
   "metadata": {},
   "source": [
    "MNIST Dataset"
   ]
  },
  {
   "cell_type": "code",
   "execution_count": 4,
   "metadata": {},
   "outputs": [],
   "source": [
    "train_dataset = dsets.MNIST(\n",
    "    root='../../data', train=True, transform=transforms.ToTensor(), download=True)\n",
    "\n",
    "test_dataset = dsets.MNIST(\n",
    "    root='../../data', train=False, transform=transforms.ToTensor())"
   ]
  },
  {
   "cell_type": "markdown",
   "metadata": {},
   "source": [
    "Data Loader (Input Pipeline)"
   ]
  },
  {
   "cell_type": "code",
   "execution_count": 5,
   "metadata": {},
   "outputs": [],
   "source": [
    "train_loader = torch.utils.data.DataLoader(\n",
    "    dataset=train_dataset, batch_size=batch_size, shuffle=True)\n",
    "\n",
    "test_loader = torch.utils.data.DataLoader(\n",
    "    dataset=test_dataset, batch_size=batch_size, shuffle=False)"
   ]
  },
  {
   "cell_type": "markdown",
   "metadata": {},
   "source": [
    "Neural Network Model (1 hidden layer)"
   ]
  },
  {
   "cell_type": "code",
   "execution_count": 6,
   "metadata": {},
   "outputs": [],
   "source": [
    "class Net(nn.Module):\n",
    "    def __init__(self, input_size, hidden_size, num_classes):\n",
    "        super(Net, self).__init__()\n",
    "        self.fc1 = nn.Linear(input_size, hidden_size)\n",
    "        self.relu = nn.ReLU()\n",
    "        self.fc2 = nn.Linear(hidden_size, num_classes)\n",
    "\n",
    "    def forward(self, x):\n",
    "        out = self.fc1(x)\n",
    "        out = self.relu(out)\n",
    "        out = self.fc2(out)\n",
    "        return out"
   ]
  },
  {
   "cell_type": "code",
   "execution_count": 7,
   "metadata": {},
   "outputs": [],
   "source": [
    "net = Net(input_size, hidden_size, num_classes)"
   ]
  },
  {
   "cell_type": "markdown",
   "metadata": {},
   "source": [
    "Loss and Optimizer"
   ]
  },
  {
   "cell_type": "code",
   "execution_count": 8,
   "metadata": {},
   "outputs": [],
   "source": [
    "criterion = nn.CrossEntropyLoss()\n",
    "optimizer = torch.optim.Adam(net.parameters(), lr=learning_rate)"
   ]
  },
  {
   "cell_type": "markdown",
   "metadata": {},
   "source": [
    "Train the Model"
   ]
  },
  {
   "cell_type": "code",
   "execution_count": 9,
   "metadata": {},
   "outputs": [
    {
     "name": "stdout",
     "output_type": "stream",
     "text": [
      "Epoch [1/5], Step [100/600], Loss: 0.4392\n",
      "Epoch [1/5], Step [200/600], Loss: 0.2366\n",
      "Epoch [1/5], Step [300/600], Loss: 0.2125\n",
      "Epoch [1/5], Step [400/600], Loss: 0.2087\n",
      "Epoch [1/5], Step [500/600], Loss: 0.2037\n",
      "Epoch [1/5], Step [600/600], Loss: 0.0945\n",
      "Epoch [2/5], Step [100/600], Loss: 0.1767\n",
      "Epoch [2/5], Step [200/600], Loss: 0.1293\n",
      "Epoch [2/5], Step [300/600], Loss: 0.1616\n",
      "Epoch [2/5], Step [400/600], Loss: 0.0632\n",
      "Epoch [2/5], Step [500/600], Loss: 0.0570\n",
      "Epoch [2/5], Step [600/600], Loss: 0.2703\n",
      "Epoch [3/5], Step [100/600], Loss: 0.1002\n",
      "Epoch [3/5], Step [200/600], Loss: 0.0762\n",
      "Epoch [3/5], Step [300/600], Loss: 0.0502\n",
      "Epoch [3/5], Step [400/600], Loss: 0.0854\n",
      "Epoch [3/5], Step [500/600], Loss: 0.0161\n",
      "Epoch [3/5], Step [600/600], Loss: 0.0661\n",
      "Epoch [4/5], Step [100/600], Loss: 0.0297\n",
      "Epoch [4/5], Step [200/600], Loss: 0.0376\n",
      "Epoch [4/5], Step [300/600], Loss: 0.1031\n",
      "Epoch [4/5], Step [400/600], Loss: 0.0485\n",
      "Epoch [4/5], Step [500/600], Loss: 0.0706\n",
      "Epoch [4/5], Step [600/600], Loss: 0.0458\n",
      "Epoch [5/5], Step [100/600], Loss: 0.0289\n",
      "Epoch [5/5], Step [200/600], Loss: 0.0245\n",
      "Epoch [5/5], Step [300/600], Loss: 0.0354\n",
      "Epoch [5/5], Step [400/600], Loss: 0.0149\n",
      "Epoch [5/5], Step [500/600], Loss: 0.0194\n",
      "Epoch [5/5], Step [600/600], Loss: 0.0370\n"
     ]
    }
   ],
   "source": [
    "for epoch in range(num_epochs):\n",
    "    for i, (images, labels) in enumerate(train_loader):\n",
    "        # Convert torch tensor to Variable\n",
    "        images = images.view(-1, 28 * 28)\n",
    "\n",
    "        # Forward + Backward + Optimize\n",
    "        optimizer.zero_grad()  # zero the gradient buffer\n",
    "        outputs = net(images)\n",
    "        loss = criterion(outputs, labels)\n",
    "        loss.backward()\n",
    "        optimizer.step()\n",
    "\n",
    "        if (i + 1) % 100 == 0:\n",
    "            print('Epoch [%d/%d], Step [%d/%d], Loss: %.4f' %\n",
    "                  (epoch + 1, num_epochs, i + 1,\n",
    "                   len(train_dataset) // batch_size, loss.item()))"
   ]
  },
  {
   "cell_type": "markdown",
   "metadata": {},
   "source": [
    "Test the Model"
   ]
  },
  {
   "cell_type": "code",
   "execution_count": 10,
   "metadata": {},
   "outputs": [
    {
     "name": "stdout",
     "output_type": "stream",
     "text": [
      "Accuracy of the network on the 10000 test images: 98 %\n"
     ]
    }
   ],
   "source": [
    "correct = 0\n",
    "total = 0\n",
    "for images, labels in test_loader:\n",
    "    images = images.view(-1, 28 * 28)\n",
    "    outputs = net(images)\n",
    "    _, predicted = torch.max(outputs.data, 1)\n",
    "    total += labels.size(0)\n",
    "    correct += (predicted == labels).sum()\n",
    "\n",
    "print('Accuracy of the network on the 10000 test images: %d %%' %\n",
    "      (100 * correct / total))"
   ]
  },
  {
   "cell_type": "markdown",
   "metadata": {},
   "source": [
    "Save the Model"
   ]
  },
  {
   "cell_type": "code",
   "execution_count": 13,
   "metadata": {},
   "outputs": [],
   "source": [
    "torch.save(net.state_dict(), 'model.pkl')"
   ]
  }
 ],
 "metadata": {
  "kernelspec": {
   "display_name": "Python 3",
   "language": "python",
   "name": "python3"
  },
  "language_info": {
   "codemirror_mode": {
    "name": "ipython",
    "version": 3
   },
   "file_extension": ".py",
   "mimetype": "text/x-python",
   "name": "python",
   "nbconvert_exporter": "python",
   "pygments_lexer": "ipython3",
   "version": "3.6.4"
  },
  "toc": {
   "nav_menu": {},
   "number_sections": true,
   "sideBar": true,
   "skip_h1_title": false,
   "title_cell": "Table of Contents",
   "title_sidebar": "Contents",
   "toc_cell": false,
   "toc_position": {},
   "toc_section_display": true,
   "toc_window_display": false
  }
 },
 "nbformat": 4,
 "nbformat_minor": 2
}
